{
 "cells": [
  {
   "cell_type": "code",
   "execution_count": 4,
   "metadata": {},
   "outputs": [],
   "source": [
    "# import libraries\n",
    "from transformers import RobertaTokenizer, RobertaForQuestionAnswering\n",
    "import torch"
   ]
  },
  {
   "cell_type": "code",
   "execution_count": 5,
   "metadata": {},
   "outputs": [
    {
     "name": "stderr",
     "output_type": "stream",
     "text": [
      "Downloading (…)olve/main/vocab.json: 100%|██████████| 899k/899k [00:01<00:00, 856kB/s]\n",
      "Downloading (…)olve/main/merges.txt: 100%|██████████| 456k/456k [00:00<00:00, 558kB/s]\n",
      "Downloading model.safetensors: 100%|██████████| 496M/496M [00:37<00:00, 13.4MB/s] \n"
     ]
    }
   ],
   "source": [
    "# Load pre-trained BERT model and tokenizer\n",
    "model_name = \"deepset/roberta-base-squad2\"\n",
    "tokenizer = RobertaTokenizer.from_pretrained(model_name)\n",
    "model = RobertaForQuestionAnswering.from_pretrained(model_name)"
   ]
  },
  {
   "cell_type": "code",
   "execution_count": 26,
   "metadata": {},
   "outputs": [
    {
     "name": "stdout",
     "output_type": "stream",
     "text": [
      "Article text:\n",
      "  Commission on Elections (Comelec) Chair George Garcia on Friday said it would push for a P2,000 increase as well as tax exemption in the honorarium rates for all teachers serving as poll workers in the next elections to make up for the lack of overtime pay.\n",
      "  In a press conference on Friday, Garcia raised this as an option as he reiterated that his agency could not give overtime pay for this year’s election workers because the Comelec was bound by the Commission on Audit-Department of Budget and Management (COA-DBM) Circular that limits the grant of such an incentive only to employees.\n",
      "  “The COA-DBM circular should be set aside, or else we could be declared wrong … we would be flagged by COA,” he said, adding that Comelec could not engage in “cross-border spending,” or realigning funds outside the agency, despite its fiscal autonomy.\n",
      "  Higher pay in 2025 polls But Garcia stressed that he would back the grant of additional pay on top of a tax exemption for members of electoral board (EB) and barangay board of canvassers (BOC) in the next village, youth as well as midterm polls in 2025.\n",
      "  “In the next elections, there should be an additional pay of P2,000 each across the board … and if the tax exemption is again pursued in the Congress, the Comelec will support that for the teachers,” he told reporters.\n",
      "  This would further raise honorarium rates to P12,000 for the EB chair and P11,000 for members from the current P10,000 and P9,000, respectively.\n",
      "  Meanwhile, the Alliance of Concerned Teachers (ACT) Philippines on Friday urged the Comelec and the Bureau of Internal Revenue (BIR), “to exhaust all measures to tax-exempt Board of Election Inspectors’ (BEIs) deficient honoraria and allowances.\n",
      "  ”  Exempt from tax The group lamented that the 20-percent tax imposed on the service honoraria—ranging from P9,000 to P10,000—would significantly reduce the take-home pay of the teachers who performed “more strenuous” election duties in the manually conducted elections.\n",
      "  “The P1,800 to P2,000 tax is already a big deduction and should be given to teachers, the majority of which served in the elections for more than 24 hours,” ACT chair Vladimer Quetua said.\n",
      "  “So many hours have been spent by the teachers to prepare even before the election day until the submission of the election returns.\n",
      "  Teachers are exhausted and some even experienced harassment, so it is only proper that this honoraria shall be given to us in full,” he added.\n",
      "  President Marcos vetoed last year a bill that sought tax exemptions to the pay and benefits given to poll workers.\n",
      "  Quetua urged  Marcos “to show his sincere and genuine appreciation for the services and sacrifices of teachers” and other poll workers by reconsidering his decision to veto the measure and by certifying it as urgent.\n",
      "  He also called on the Comelec, Department of Budget and Management, Department of Education and the Civil Service Commission to discuss other election-related issues and concerns raised by teachers and poll workers.\n",
      "  INQ.\n"
     ]
    }
   ],
   "source": [
    "# User input: Article text\n",
    "article = input(\"Paste the article text here: \")\n",
    "\n",
    "# Split the article into sentences\n",
    "sentences = article.split('.')\n",
    "\n",
    "# Reformat and print the article text\n",
    "print(\"Article text:\")\n",
    "for sentence in sentences:\n",
    "    sentence = sentence.strip()  # Remove leading/trailing whitespace\n",
    "    if sentence:  # Check if the sentence is not empty\n",
    "        print(\"  \" + sentence + \".\")\n"
   ]
  },
  {
   "cell_type": "code",
   "execution_count": 19,
   "metadata": {},
   "outputs": [],
   "source": [
    "# User input: Question related to the article\n",
    "question = input(\"Ask a question about the article: \")"
   ]
  },
  {
   "cell_type": "code",
   "execution_count": 20,
   "metadata": {},
   "outputs": [
    {
     "name": "stderr",
     "output_type": "stream",
     "text": [
      "Be aware, overflowing tokens are not returned for the setting you have chosen, i.e. sequence pairs with the 'longest_first' truncation strategy. So the returned list will always be empty even if some tokens have been removed.\n"
     ]
    }
   ],
   "source": [
    "# Tokenize the article and question\n",
    "inputs = tokenizer(question, article, return_tensors=\"pt\", truncation=True)"
   ]
  },
  {
   "cell_type": "code",
   "execution_count": 21,
   "metadata": {},
   "outputs": [],
   "source": [
    "# Perform inference for question answering\n",
    "with torch.no_grad():\n",
    "    outputs = model(**inputs)\n",
    "\n",
    "# Get the predicted answer span\n",
    "answer_start = torch.argmax(outputs.start_logits)\n",
    "answer_end = torch.argmax(outputs.end_logits) + 1\n",
    "answer = tokenizer.convert_tokens_to_string(tokenizer.convert_ids_to_tokens(inputs[\"input_ids\"][0][answer_start:answer_end]))\n"
   ]
  },
  {
   "cell_type": "code",
   "execution_count": 22,
   "metadata": {},
   "outputs": [
    {
     "name": "stdout",
     "output_type": "stream",
     "text": [
      "Question: how much will be the increase for all teachers serving as poll workers in the next election?\n",
      "Answer:  P2,000\n"
     ]
    }
   ],
   "source": [
    "# Present the question and combined answer to the user\n",
    "print(\"Question:\", question)\n",
    "print(\"Answer:\", answer)"
   ]
  }
 ],
 "metadata": {
  "kernelspec": {
   "display_name": "news",
   "language": "python",
   "name": "python3"
  },
  "language_info": {
   "codemirror_mode": {
    "name": "ipython",
    "version": 3
   },
   "file_extension": ".py",
   "mimetype": "text/x-python",
   "name": "python",
   "nbconvert_exporter": "python",
   "pygments_lexer": "ipython3",
   "version": "3.11.5"
  }
 },
 "nbformat": 4,
 "nbformat_minor": 2
}
